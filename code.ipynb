{
 "cells": [
  {
   "cell_type": "code",
   "execution_count": 1,
   "id": "aafeb0cc-7524-40cd-b427-875aa9261f22",
   "metadata": {},
   "outputs": [],
   "source": [
    "import pandas as pd\n",
    "import matplotlib.pyplot as plt\n",
    "\n",
    "df = pd.read_csv(\"survey_results_public.csv\")"
   ]
  },
  {
   "cell_type": "code",
   "execution_count": null,
   "id": "2ed596c7-276b-4709-adb1-19e7669096e6",
   "metadata": {},
   "outputs": [],
   "source": [
    "df.head()"
   ]
  },
  {
   "cell_type": "code",
   "execution_count": null,
   "id": "a9f5dfa4-d12c-43e3-80b7-23b637160b56",
   "metadata": {},
   "outputs": [],
   "source": [
    "df = df[[\"Country\", \"EdLevel\", \"YearsCodePro\", \"Employment\", \"ConvertedCompYearly\"]]\n",
    "df = df.rename({\"ConvertedCompYearly\": \"Salary\"}, axis = 1)\n",
    "df.head()"
   ]
  },
  {
   "cell_type": "code",
   "execution_count": null,
   "id": "0a66785e-dcf3-4f57-aa06-9ffd71320731",
   "metadata": {},
   "outputs": [],
   "source": [
    "df = df[df[\"Salary\"].notnull()]\n",
    "df.head()"
   ]
  },
  {
   "cell_type": "code",
   "execution_count": null,
   "id": "fc7b3f05-6d9e-4503-96e3-1e4a7a70cf86",
   "metadata": {},
   "outputs": [],
   "source": [
    "df.info()"
   ]
  },
  {
   "cell_type": "code",
   "execution_count": null,
   "id": "d4791205-ce1f-4599-949b-2d11a0dbef61",
   "metadata": {},
   "outputs": [],
   "source": [
    "df = df.dropna()\n",
    "df.isnull().sum()"
   ]
  },
  {
   "cell_type": "code",
   "execution_count": null,
   "id": "eb1849b4-6d0f-4e22-ac7b-9a6469886216",
   "metadata": {},
   "outputs": [],
   "source": [
    "print(df[\"Employment\"].unique())"
   ]
  },
  {
   "cell_type": "code",
   "execution_count": null,
   "id": "e5e5c475-32ff-4a86-a10d-d1ab054765c9",
   "metadata": {},
   "outputs": [],
   "source": [
    "df = df[df[\"Employment\"].str.contains(\"Employed, full-time\", na=False)]\n",
    "df = df.drop(\"Employment\", axis = 1)\n",
    "df.info()"
   ]
  },
  {
   "cell_type": "code",
   "execution_count": null,
   "id": "3755559a-8bad-4695-9f8a-0620cb00706d",
   "metadata": {},
   "outputs": [],
   "source": [
    "df['Country'].value_counts()"
   ]
  },
  {
   "cell_type": "code",
   "execution_count": 10,
   "id": "25e1fcf8-0f25-4ac8-a161-a13e9317f223",
   "metadata": {},
   "outputs": [],
   "source": [
    " "
   ]
  },
  {
   "cell_type": "code",
   "execution_count": null,
   "id": "c516aebb-1fc8-4269-91dd-cf64892454b8",
   "metadata": {},
   "outputs": [],
   "source": [
    "country_map = shorten_categories(df.Country.value_counts(),400)\n",
    "df['Country'] = df['Country'].map(country_map)\n",
    "df.Country.value_counts()"
   ]
  },
  {
   "cell_type": "code",
   "execution_count": null,
   "id": "6fb57855-b54a-4f90-acf4-1107aae78ced",
   "metadata": {},
   "outputs": [],
   "source": [
    "fig, ax = plt.subplots(1,1,figsize = (8,4))\n",
    "df.boxplot('Salary','Country',ax=ax)\n",
    "plt.suptitle('Salary (USD) vs Country')\n",
    "plt.title('')\n",
    "plt.ylabel('Salary')\n",
    "plt.xticks(rotation=90)\n",
    "plt.show()\n"
   ]
  },
  {
   "cell_type": "code",
   "execution_count": null,
   "id": "c7fe8587-4821-47ab-a2ab-4f6350319d6a",
   "metadata": {},
   "outputs": [],
   "source": [
    "df[\"YearsCodePro\"].unique()"
   ]
  },
  {
   "cell_type": "code",
   "execution_count": 14,
   "id": "d2dad997-a2a1-4933-a270-c69cad1cf5af",
   "metadata": {},
   "outputs": [],
   "source": [
    "def clean_exp(x):\n",
    "    if x == 'More than 50 years':\n",
    "        return 50\n",
    "    if x == 'Less than 1 year':\n",
    "        return 0.5\n",
    "    return float(x)\n",
    "\n",
    "df['YearsCodePro'] = df['YearsCodePro'].apply(clean_exp)\n",
    "    \n",
    "        "
   ]
  },
  {
   "cell_type": "code",
   "execution_count": null,
   "id": "aa003345-b736-45ba-9045-47797db80ced",
   "metadata": {},
   "outputs": [],
   "source": [
    "df['EdLevel'].head()"
   ]
  },
  {
   "cell_type": "code",
   "execution_count": 16,
   "id": "757f5f61-8f2b-4b3a-9d99-baa15f589e3b",
   "metadata": {},
   "outputs": [],
   "source": [
    "def clean_ed(x):\n",
    "    # Normalize the apostrophe and strip any leading/trailing whitespace\n",
    "    x = x.replace(\"’\", \"'\").strip()\n",
    "\n",
    "    # Focus on core terms, ignoring additional details in parentheses\n",
    "    if \"bachelor\" in x.lower():\n",
    "        return \"Bachelor's degree\"\n",
    "    if \"master\" in x.lower():\n",
    "        return \"Master's degree\"\n",
    "    if \"professional\" in x.lower():\n",
    "        return \"Post grad\"\n",
    "    \n",
    "    # Anything else will be categorized as \"Less than Bachelor's\"\n",
    "    return \"Less than Bachelor's\"\n",
    "df['EdLevel'] = df['EdLevel'].apply(clean_ed)\n"
   ]
  },
  {
   "cell_type": "code",
   "execution_count": null,
   "id": "e956e9ec-9645-46e8-9049-be65b477a8c3",
   "metadata": {},
   "outputs": [],
   "source": [
    "df['EdLevel'].unique()\n"
   ]
  },
  {
   "cell_type": "code",
   "execution_count": null,
   "id": "2e9aec54-1282-4031-9c49-1dcde5b480f3",
   "metadata": {},
   "outputs": [],
   "source": [
    "from sklearn.preprocessing import LabelEncoder\n",
    "le_education = LabelEncoder()\n",
    "df['EdLevel'] = le_education.fit_transform(df['EdLevel'])\n",
    "df['EdLevel'].unique()\n",
    "                                                                                   "
   ]
  },
  {
   "cell_type": "code",
   "execution_count": null,
   "id": "9111f741-1ee0-4b7c-81d5-b9caf8014092",
   "metadata": {},
   "outputs": [],
   "source": [
    "le_country = LabelEncoder()\n",
    "df['Country'] = le_country.fit_transform(df['Country'])\n",
    "df['Country'].unique()"
   ]
  },
  {
   "cell_type": "code",
   "execution_count": 20,
   "id": "b4597349-e5b5-4ca4-acf8-66a6f800bd53",
   "metadata": {},
   "outputs": [],
   "source": [
    "X = df.drop(\"Salary\", axis = 1)\n",
    "\n",
    "\n",
    "y = df[\"Salary\"]\n"
   ]
  },
  {
   "cell_type": "code",
   "execution_count": null,
   "id": "d4e74a72-5f4c-490b-a74d-0abc3fcf55a0",
   "metadata": {},
   "outputs": [],
   "source": [
    "from sklearn.linear_model import LinearRegression\n",
    "linear_reg = LinearRegression()\n",
    "linear_reg.fit(X, y.values)\n"
   ]
  },
  {
   "cell_type": "code",
   "execution_count": 22,
   "id": "2648f43e-93dc-4e4c-b261-8c7e45975272",
   "metadata": {},
   "outputs": [],
   "source": [
    "y_pred = linear_reg.predict(X)"
   ]
  },
  {
   "cell_type": "code",
   "execution_count": 23,
   "id": "135fd029-bde3-4d2b-a61e-e8d5f1638283",
   "metadata": {},
   "outputs": [],
   "source": [
    "from sklearn.metrics import mean_squared_error, mean_absolute_error\n",
    "import numpy as np\n",
    "error = np.sqrt(mean_squared_error(y,y_pred))"
   ]
  },
  {
   "cell_type": "code",
   "execution_count": null,
   "id": "cfaf3f64-35f1-4bbd-92b5-491641400eda",
   "metadata": {},
   "outputs": [],
   "source": [
    "error"
   ]
  },
  {
   "cell_type": "code",
   "execution_count": null,
   "id": "ed3a3d75-b6ef-42b9-ac12-f25b30067bfc",
   "metadata": {},
   "outputs": [],
   "source": [
    "from sklearn.tree import DecisionTreeRegressor\n",
    "dec_tree_reg = DecisionTreeRegressor(random_state = 0)\n",
    "dec_tree_reg.fit(X,y.values)"
   ]
  },
  {
   "cell_type": "code",
   "execution_count": 26,
   "id": "0322db69-9be5-45f1-8bd1-a0eb298f29da",
   "metadata": {},
   "outputs": [],
   "source": [
    "y_pred = dec_tree_reg.predict(X)"
   ]
  },
  {
   "cell_type": "code",
   "execution_count": null,
   "id": "66dbe3cd-705d-456d-8584-db7e4215a899",
   "metadata": {},
   "outputs": [],
   "source": [
    "error = np.sqrt(mean_squared_error(y,y_pred))\n",
    "print(\"${:,.02f}\".format(error))"
   ]
  },
  {
   "cell_type": "code",
   "execution_count": null,
   "id": "43fbce0f-ab90-42bc-87d3-7c24869f5d26",
   "metadata": {},
   "outputs": [],
   "source": [
    "from sklearn.ensemble import RandomForestRegressor\n",
    "random_forest_reg = RandomForestRegressor(random_state=0)\n",
    "random_forest_reg.fit(X,y.values)\n"
   ]
  },
  {
   "cell_type": "code",
   "execution_count": 29,
   "id": "34e4e783-8d5e-40aa-af31-fe2f6a54d966",
   "metadata": {},
   "outputs": [],
   "source": [
    "y_pred = random_forest_reg.predict(X)"
   ]
  },
  {
   "cell_type": "code",
   "execution_count": null,
   "id": "0de4e729-a82c-42a9-a881-db1c3e499f41",
   "metadata": {},
   "outputs": [],
   "source": [
    "error = np.sqrt(mean_squared_error(y,y_pred))\n",
    "print(\"${:,.02f}\".format(error))"
   ]
  },
  {
   "cell_type": "code",
   "execution_count": null,
   "id": "00dd4341-c394-45a2-aaf5-174300dda13e",
   "metadata": {
    "scrolled": true
   },
   "outputs": [],
   "source": [
    "from sklearn.model_selection import GridSearchCV\n",
    "\n",
    "max_depth = [None, 2,4,6,8,10,12]\n",
    "parameters = {\"max_depth\" : max_depth}\n",
    "\n",
    "regressor = DecisionTreeRegressor(random_state = 0)\n",
    "gs = GridSearchCV(regressor, parameters, scoring = 'neg_mean_squared_error')\n",
    "gs.fit(X,y.values)"
   ]
  },
  {
   "cell_type": "code",
   "execution_count": null,
   "id": "1d67a80a-0e19-430c-9010-5c03a546d3d1",
   "metadata": {},
   "outputs": [],
   "source": [
    "regressor = gs.best_estimator_\n",
    "regressor.fit(X,y.values)\n",
    "y_pred = regressor.predict(X)\n",
    "error = np.sqrt(mean_squared_error(y,y_pred))\n",
    "print(\"${:,.02f}\".format(error))"
   ]
  },
  {
   "cell_type": "code",
   "execution_count": null,
   "id": "5657f6c6-37a8-4dfe-ab4c-61849f6c31e4",
   "metadata": {},
   "outputs": [],
   "source": [
    "# country,edlevel,yearsprocode\n",
    "\n",
    "X = pd.DataFrame([['United States of America', \"Master's degree\", 15]],\n",
    "                 columns=['Country', 'EdLevel', 'YearsCodePro'])\n",
    "X"
   ]
  },
  {
   "cell_type": "code",
   "execution_count": 35,
   "id": "f778b855-14b5-4253-a374-8729b0cad141",
   "metadata": {
    "scrolled": true
   },
   "outputs": [],
   "source": [
    "# Ensure that X is a pandas DataFrame, and then use iloc for indexing\n",
    "X.iloc[:, 0] = le_country.transform(X.iloc[:, 0])\n",
    "X.iloc[:, 1] = le_education.transform(X.iloc[:, 1])\n"
   ]
  },
  {
   "cell_type": "code",
   "execution_count": 36,
   "id": "67b8f7e7-ba46-420f-99ac-67bdec423910",
   "metadata": {},
   "outputs": [],
   "source": [
    "# Ensure all values are float for model input\n",
    "X = X.astype(float)"
   ]
  },
  {
   "cell_type": "code",
   "execution_count": null,
   "id": "c9e91d05-1739-47c4-9847-5f87d0964dcd",
   "metadata": {},
   "outputs": [],
   "source": [
    "X"
   ]
  },
  {
   "cell_type": "code",
   "execution_count": null,
   "id": "1b2a4107-b455-4ba7-ab7e-b071cef88b50",
   "metadata": {},
   "outputs": [],
   "source": [
    "y_pred = regressor.predict(X)\n",
    "y_pred"
   ]
  },
  {
   "cell_type": "code",
   "execution_count": 41,
   "id": "e5de4838-fdef-4a2f-9275-8463de378c7e",
   "metadata": {},
   "outputs": [],
   "source": [
    "import pickle"
   ]
  },
  {
   "cell_type": "code",
   "execution_count": 42,
   "id": "3a4309eb-7db9-4c3c-a377-6c1a58f2bb05",
   "metadata": {},
   "outputs": [],
   "source": [
    "data = {\"model\": regressor, \"le_country\": le_country, \"le_education\": le_education}\n",
    "with open(\"saved_steps.pkl\", \"wb\") as file:\n",
    "    pickle.dump(data,file)"
   ]
  },
  {
   "cell_type": "code",
   "execution_count": 44,
   "id": "ae1bbf3b-907a-4f4f-a5bf-aaf208b96537",
   "metadata": {},
   "outputs": [],
   "source": [
    "with open('saved_steps.pkl','rb') as file:\n",
    "    data = pickle.load(file)\n",
    "\n",
    "regressor_loaded = data[\"model\"]\n",
    "le_country = data[\"le_country\"]\n",
    "le_education = data[\"le_education\"]\n"
   ]
  },
  {
   "cell_type": "code",
   "execution_count": null,
   "id": "aff10f44-dfff-4212-bf86-43033dc970b4",
   "metadata": {},
   "outputs": [],
   "source": [
    "y_pred = regressor_loaded.predict(X)\n",
    "y_pred"
   ]
  },
  {
   "cell_type": "code",
   "execution_count": null,
   "id": "de25669e-9e7c-4628-9f4a-d21900f2c200",
   "metadata": {},
   "outputs": [],
   "source": []
  }
 ],
 "metadata": {
  "kernelspec": {
   "display_name": "ml",
   "language": "python",
   "name": "ml"
  },
  "language_info": {
   "codemirror_mode": {
    "name": "ipython",
    "version": 3
   },
   "file_extension": ".py",
   "mimetype": "text/x-python",
   "name": "python",
   "nbconvert_exporter": "python",
   "pygments_lexer": "ipython3",
   "version": "3.12.3"
  }
 },
 "nbformat": 4,
 "nbformat_minor": 5
}
